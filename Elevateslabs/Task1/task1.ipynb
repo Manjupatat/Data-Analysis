{
 "cells": [
  {
   "cell_type": "code",
   "execution_count": 55,
   "id": "3beed848",
   "metadata": {},
   "outputs": [
    {
     "name": "stdout",
     "output_type": "stream",
     "text": [
      "Requirement already satisfied: pandas in c:\\users\\manju\\appdata\\local\\programs\\python\\python313\\lib\\site-packages (2.2.3)\n",
      "Requirement already satisfied: numpy>=1.26.0 in c:\\users\\manju\\appdata\\local\\programs\\python\\python313\\lib\\site-packages (from pandas) (2.2.4)\n",
      "Requirement already satisfied: python-dateutil>=2.8.2 in c:\\users\\manju\\appdata\\roaming\\python\\python313\\site-packages (from pandas) (2.9.0.post0)\n",
      "Requirement already satisfied: pytz>=2020.1 in c:\\users\\manju\\appdata\\local\\programs\\python\\python313\\lib\\site-packages (from pandas) (2025.2)\n",
      "Requirement already satisfied: tzdata>=2022.7 in c:\\users\\manju\\appdata\\local\\programs\\python\\python313\\lib\\site-packages (from pandas) (2025.2)\n",
      "Requirement already satisfied: six>=1.5 in c:\\users\\manju\\appdata\\roaming\\python\\python313\\site-packages (from python-dateutil>=2.8.2->pandas) (1.17.0)\n",
      "Note: you may need to restart the kernel to use updated packages.\n"
     ]
    }
   ],
   "source": [
    "pip install pandas\n"
   ]
  },
  {
   "cell_type": "markdown",
   "id": "b72bebfe",
   "metadata": {},
   "source": [
    "# Import libraries & loading dataset"
   ]
  },
  {
   "cell_type": "code",
   "execution_count": 56,
   "id": "fc6d67e6",
   "metadata": {},
   "outputs": [],
   "source": [
    "import pandas as pd\n",
    "\n",
    "# df=pd.read_csv(\"marketing_campaign.csv\")\n",
    "df=pd.read_csv('medical_appointment_no_shows.csv')\n"
   ]
  },
  {
   "cell_type": "markdown",
   "id": "3c39f4dc",
   "metadata": {},
   "source": [
    "# Exploring the dataset"
   ]
  },
  {
   "cell_type": "code",
   "execution_count": 57,
   "id": "e1f41724",
   "metadata": {},
   "outputs": [
    {
     "name": "stdout",
     "output_type": "stream",
     "text": [
      "(110527, 14)\n",
      "<class 'pandas.core.frame.DataFrame'>\n",
      "RangeIndex: 110527 entries, 0 to 110526\n",
      "Data columns (total 14 columns):\n",
      " #   Column          Non-Null Count   Dtype  \n",
      "---  ------          --------------   -----  \n",
      " 0   PatientId       110527 non-null  float64\n",
      " 1   AppointmentID   110527 non-null  int64  \n",
      " 2   Gender          110527 non-null  object \n",
      " 3   ScheduledDay    110527 non-null  object \n",
      " 4   AppointmentDay  110527 non-null  object \n",
      " 5   Age             110527 non-null  int64  \n",
      " 6   Neighbourhood   110527 non-null  object \n",
      " 7   Scholarship     110527 non-null  int64  \n",
      " 8   Hipertension    110527 non-null  int64  \n",
      " 9   Diabetes        110527 non-null  int64  \n",
      " 10  Alcoholism      110527 non-null  int64  \n",
      " 11  Handcap         110527 non-null  int64  \n",
      " 12  SMS_received    110527 non-null  int64  \n",
      " 13  No-show         110527 non-null  object \n",
      "dtypes: float64(1), int64(8), object(5)\n",
      "memory usage: 11.8+ MB\n",
      "None\n",
      "      PatientId  AppointmentID Gender          ScheduledDay  \\\n",
      "0  2.987250e+13        5642903      F  2016-04-29T18:38:08Z   \n",
      "1  5.589978e+14        5642503      M  2016-04-29T16:08:27Z   \n",
      "2  4.262962e+12        5642549      F  2016-04-29T16:19:04Z   \n",
      "3  8.679512e+11        5642828      F  2016-04-29T17:29:31Z   \n",
      "4  8.841186e+12        5642494      F  2016-04-29T16:07:23Z   \n",
      "\n",
      "         AppointmentDay  Age      Neighbourhood  Scholarship  Hipertension  \\\n",
      "0  2016-04-29T00:00:00Z   62    JARDIM DA PENHA            0             1   \n",
      "1  2016-04-29T00:00:00Z   56    JARDIM DA PENHA            0             0   \n",
      "2  2016-04-29T00:00:00Z   62      MATA DA PRAIA            0             0   \n",
      "3  2016-04-29T00:00:00Z    8  PONTAL DE CAMBURI            0             0   \n",
      "4  2016-04-29T00:00:00Z   56    JARDIM DA PENHA            0             1   \n",
      "\n",
      "   Diabetes  Alcoholism  Handcap  SMS_received No-show  \n",
      "0         0           0        0             0      No  \n",
      "1         0           0        0             0      No  \n",
      "2         0           0        0             0      No  \n",
      "3         0           0        0             0      No  \n",
      "4         1           0        0             0      No  \n"
     ]
    }
   ],
   "source": [
    "print(df.shape)\n",
    "print(df.info())\n",
    "print(df.head())"
   ]
  },
  {
   "cell_type": "markdown",
   "id": "7c50cf25",
   "metadata": {},
   "source": [
    "# Handling missing values"
   ]
  },
  {
   "cell_type": "code",
   "execution_count": 58,
   "id": "cb4d7ea3",
   "metadata": {},
   "outputs": [
    {
     "name": "stdout",
     "output_type": "stream",
     "text": [
      "PatientId         0\n",
      "AppointmentID     0\n",
      "Gender            0\n",
      "ScheduledDay      0\n",
      "AppointmentDay    0\n",
      "Age               0\n",
      "Neighbourhood     0\n",
      "Scholarship       0\n",
      "Hipertension      0\n",
      "Diabetes          0\n",
      "Alcoholism        0\n",
      "Handcap           0\n",
      "SMS_received      0\n",
      "No-show           0\n",
      "dtype: int64\n"
     ]
    }
   ],
   "source": [
    "# checking for null values\n",
    "print(df.isnull().sum())\n",
    "\n",
    "df.dropna(inplace=True)\n",
    "\n",
    "# df['column_name'].finala(df['colum_name'].mean(), inplace=True)"
   ]
  },
  {
   "cell_type": "markdown",
   "id": "230cc4e6",
   "metadata": {},
   "source": [
    "# Removing duplicate rows"
   ]
  },
  {
   "cell_type": "code",
   "execution_count": 59,
   "id": "b44b2ad2",
   "metadata": {},
   "outputs": [],
   "source": [
    "df.drop_duplicates(inplace=True)"
   ]
  },
  {
   "cell_type": "markdown",
   "id": "963aacd9",
   "metadata": {},
   "source": [
    "# Standardize text colimns"
   ]
  },
  {
   "cell_type": "code",
   "execution_count": 60,
   "id": "5eb9134b",
   "metadata": {},
   "outputs": [],
   "source": [
    "df['Gender']=df['Gender'].str.lower().str.strip()\n",
    "df.replace({'f':'female','m':'male'},inplace=True)"
   ]
  },
  {
   "cell_type": "markdown",
   "id": "35d499da",
   "metadata": {},
   "source": [
    "# Covert dates to a constistent format"
   ]
  },
  {
   "cell_type": "code",
   "execution_count": 62,
   "id": "2d96dffe",
   "metadata": {},
   "outputs": [],
   "source": [
    "df['Gender'] = df['Gender'].str.lower()\n",
    "df['ScheduledDay'] = pd.to_datetime(df['ScheduledDay'], errors='coerce')\n",
    "df['AppointmentDay'] = pd.to_datetime(df['AppointmentDay'], errors='coerce')\n"
   ]
  },
  {
   "cell_type": "markdown",
   "id": "15f18af0",
   "metadata": {},
   "source": [
    "# Clean column headers"
   ]
  },
  {
   "cell_type": "code",
   "execution_count": 63,
   "id": "fea2925e",
   "metadata": {},
   "outputs": [],
   "source": [
    "df.columns=df.columns.str.strip().str.lower().str.replace('-','_')\n",
    "\n",
    "df.drop_duplicates(inplace=True)\n"
   ]
  },
  {
   "cell_type": "markdown",
   "id": "28d033a8",
   "metadata": {},
   "source": [
    "# Fix data types"
   ]
  },
  {
   "cell_type": "code",
   "execution_count": 64,
   "id": "f465c1fe",
   "metadata": {},
   "outputs": [
    {
     "data": {
      "text/plain": [
       "(      patientid  appointmentid  gender              scheduledday  \\\n",
       " 0  2.987250e+13        5642903  female 2016-04-29 18:38:08+00:00   \n",
       " 1  5.589978e+14        5642503    male 2016-04-29 16:08:27+00:00   \n",
       " 2  4.262962e+12        5642549  female 2016-04-29 16:19:04+00:00   \n",
       " 3  8.679512e+11        5642828  female 2016-04-29 17:29:31+00:00   \n",
       " 4  8.841186e+12        5642494  female 2016-04-29 16:07:23+00:00   \n",
       " \n",
       "              appointmentday  age      neighbourhood  scholarship  \\\n",
       " 0 2016-04-29 00:00:00+00:00   62    JARDIM DA PENHA            0   \n",
       " 1 2016-04-29 00:00:00+00:00   56    JARDIM DA PENHA            0   \n",
       " 2 2016-04-29 00:00:00+00:00   62      MATA DA PRAIA            0   \n",
       " 3 2016-04-29 00:00:00+00:00    8  PONTAL DE CAMBURI            0   \n",
       " 4 2016-04-29 00:00:00+00:00   56    JARDIM DA PENHA            0   \n",
       " \n",
       "    hipertension  diabetes  alcoholism  handcap  sms_received no_show  \n",
       " 0             1         0           0        0             0      no  \n",
       " 1             0         0           0        0             0      no  \n",
       " 2             0         0           0        0             0      no  \n",
       " 3             0         0           0        0             0      no  \n",
       " 4             1         1           0        0             0      no  ,\n",
       " patientid                     float64\n",
       " appointmentid                   int64\n",
       " gender                         object\n",
       " scheduledday      datetime64[ns, UTC]\n",
       " appointmentday    datetime64[ns, UTC]\n",
       " age                             int64\n",
       " neighbourhood                  object\n",
       " scholarship                     int64\n",
       " hipertension                    int64\n",
       " diabetes                        int64\n",
       " alcoholism                      int64\n",
       " handcap                         int64\n",
       " sms_received                    int64\n",
       " no_show                        object\n",
       " dtype: object,\n",
       " patientid         0\n",
       " appointmentid     0\n",
       " gender            0\n",
       " scheduledday      0\n",
       " appointmentday    0\n",
       " age               0\n",
       " neighbourhood     0\n",
       " scholarship       0\n",
       " hipertension      0\n",
       " diabetes          0\n",
       " alcoholism        0\n",
       " handcap           0\n",
       " sms_received      0\n",
       " no_show           0\n",
       " dtype: int64)"
      ]
     },
     "execution_count": 64,
     "metadata": {},
     "output_type": "execute_result"
    }
   ],
   "source": [
    "df['age'] = df['age'].astype(int)\n",
    "df['no_show'] = df['no_show'].str.lower()\n",
    "\n",
    "# Check for nulls\n",
    "nulls = df.isnull().sum()\n",
    "\n",
    "df.head(), df.dtypes, nulls"
   ]
  },
  {
   "cell_type": "markdown",
   "id": "98be8c27",
   "metadata": {},
   "source": [
    "# Save cleaned dataset"
   ]
  },
  {
   "cell_type": "code",
   "execution_count": 65,
   "id": "3cdcdf00",
   "metadata": {},
   "outputs": [],
   "source": [
    "df.to_csv('cleaned_dataset.csv',index=False)"
   ]
  },
  {
   "cell_type": "code",
   "execution_count": null,
   "id": "48ba60a9",
   "metadata": {},
   "outputs": [],
   "source": []
  }
 ],
 "metadata": {
  "kernelspec": {
   "display_name": "Python 3",
   "language": "python",
   "name": "python3"
  },
  "language_info": {
   "codemirror_mode": {
    "name": "ipython",
    "version": 3
   },
   "file_extension": ".py",
   "mimetype": "text/x-python",
   "name": "python",
   "nbconvert_exporter": "python",
   "pygments_lexer": "ipython3",
   "version": "3.13.2"
  }
 },
 "nbformat": 4,
 "nbformat_minor": 5
}
